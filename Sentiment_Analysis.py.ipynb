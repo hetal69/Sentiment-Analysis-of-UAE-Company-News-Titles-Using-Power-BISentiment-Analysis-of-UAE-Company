{
 "cells": [
  {
   "cell_type": "code",
   "execution_count": 1,
   "id": "b2df9dcd",
   "metadata": {},
   "outputs": [
    {
     "name": "stdout",
     "output_type": "stream",
     "text": [
      "Requirement already satisfied: googlenews in c:\\users\\hetal\\anaconda3\\lib\\site-packages (1.6.13)\n",
      "Requirement already satisfied: beautifulsoup4 in c:\\users\\hetal\\anaconda3\\lib\\site-packages (from googlenews) (4.12.2)\n",
      "Requirement already satisfied: dateparser in c:\\users\\hetal\\anaconda3\\lib\\site-packages (from googlenews) (1.2.0)\n",
      "Requirement already satisfied: python-dateutil in c:\\users\\hetal\\anaconda3\\lib\\site-packages (from googlenews) (2.8.2)\n",
      "Requirement already satisfied: soupsieve>1.2 in c:\\users\\hetal\\anaconda3\\lib\\site-packages (from beautifulsoup4->googlenews) (2.4)\n",
      "Requirement already satisfied: pytz in c:\\users\\hetal\\anaconda3\\lib\\site-packages (from dateparser->googlenews) (2022.7)\n",
      "Requirement already satisfied: regex!=2019.02.19,!=2021.8.27 in c:\\users\\hetal\\anaconda3\\lib\\site-packages (from dateparser->googlenews) (2022.7.9)\n",
      "Requirement already satisfied: tzlocal in c:\\users\\hetal\\anaconda3\\lib\\site-packages (from dateparser->googlenews) (5.2)\n",
      "Requirement already satisfied: six>=1.5 in c:\\users\\hetal\\anaconda3\\lib\\site-packages (from python-dateutil->googlenews) (1.16.0)\n",
      "Requirement already satisfied: tzdata in c:\\users\\hetal\\anaconda3\\lib\\site-packages (from tzlocal->dateparser->googlenews) (2024.1)\n",
      "Note: you may need to restart the kernel to use updated packages.\n"
     ]
    },
    {
     "name": "stderr",
     "output_type": "stream",
     "text": [
      "\n",
      "[notice] A new release of pip is available: 23.3.2 -> 24.0\n",
      "[notice] To update, run: python.exe -m pip install --upgrade pip\n"
     ]
    }
   ],
   "source": [
    "pip install googlenews"
   ]
  },
  {
   "cell_type": "code",
   "execution_count": 2,
   "id": "37db29a1",
   "metadata": {},
   "outputs": [
    {
     "name": "stdout",
     "output_type": "stream",
     "text": [
      "Requirement already satisfied: newsapi-python in c:\\users\\hetal\\anaconda3\\lib\\site-packages (0.2.7)\n",
      "Requirement already satisfied: requests<3.0.0 in c:\\users\\hetal\\anaconda3\\lib\\site-packages (from newsapi-python) (2.31.0)\n",
      "Requirement already satisfied: charset-normalizer<4,>=2 in c:\\users\\hetal\\anaconda3\\lib\\site-packages (from requests<3.0.0->newsapi-python) (2.0.4)\n",
      "Requirement already satisfied: idna<4,>=2.5 in c:\\users\\hetal\\anaconda3\\lib\\site-packages (from requests<3.0.0->newsapi-python) (3.4)\n",
      "Requirement already satisfied: urllib3<3,>=1.21.1 in c:\\users\\hetal\\anaconda3\\lib\\site-packages (from requests<3.0.0->newsapi-python) (1.26.16)\n",
      "Requirement already satisfied: certifi>=2017.4.17 in c:\\users\\hetal\\anaconda3\\lib\\site-packages (from requests<3.0.0->newsapi-python) (2023.7.22)\n",
      "Note: you may need to restart the kernel to use updated packages.\n"
     ]
    },
    {
     "name": "stderr",
     "output_type": "stream",
     "text": [
      "\n",
      "[notice] A new release of pip is available: 23.3.2 -> 24.0\n",
      "[notice] To update, run: python.exe -m pip install --upgrade pip\n"
     ]
    }
   ],
   "source": [
    "pip install newsapi-python"
   ]
  },
  {
   "cell_type": "code",
   "execution_count": 3,
   "id": "6e97e389",
   "metadata": {},
   "outputs": [],
   "source": [
    "import pandas as pd\n",
    "from GoogleNews import GoogleNews\n",
    "from nltk.sentiment.vader import SentimentIntensityAnalyzer\n",
    "import re\n",
    "import datetime"
   ]
  },
  {
   "cell_type": "code",
   "execution_count": 4,
   "id": "d1e66828",
   "metadata": {},
   "outputs": [],
   "source": [
    "def extract_companies_news(companies, no_of_news=5):\n",
    "    # Initialize Google News object\n",
    "    google_news = GoogleNews()\n",
    "    \n",
    "    news_data = []\n",
    "    for company in companies:\n",
    "        try:\n",
    "            # Fetch news articles for the company\n",
    "            google_news.clear()\n",
    "            google_news.get_news(company)\n",
    "            news_items = google_news.results()\n",
    "            \n",
    "            # Append news data for each article\n",
    "            for item in news_items[:no_of_news]:\n",
    "                news_data.append({\n",
    "                    'Company Name': company,\n",
    "                    'News Title': item['title'],\n",
    "                    'Date': item.get('date', ''),\n",
    "                })\n",
    "        except Exception as e:\n",
    "            print(f\"Error fetching news for {company}: {e}\")\n",
    "    \n",
    "    return pd.DataFrame(news_data)"
   ]
  },
  {
   "cell_type": "code",
   "execution_count": 5,
   "id": "e3194b09",
   "metadata": {},
   "outputs": [],
   "source": [
    "def cleaning_text(text):\n",
    "    # Check if text is not None\n",
    "    if text is not None:\n",
    "        # Remove special characters, links, and non-alphanumeric characters\n",
    "        cleaned_text = re.sub(r'\\W+', ' ', text)\n",
    "        return cleaned_text.strip()\n",
    "    else:\n",
    "        return ''"
   ]
  },
  {
   "cell_type": "code",
   "execution_count": 6,
   "id": "c80f62e6",
   "metadata": {},
   "outputs": [],
   "source": [
    "def sentiment_analysis(news_df):\n",
    "    # Initialize sentiment analyzer\n",
    "    sia = SentimentIntensityAnalyzer()\n",
    "\n",
    "    # Perform sentiment analysis on news titles\n",
    "    news_df['Title Sentiment Score'] = news_df['News Title'].apply(lambda x: calculate_sentiment_score(sia.polarity_scores(cleaning_text(x))['compound']))\n",
    "\n",
    "    return news_df"
   ]
  },
  {
   "cell_type": "code",
   "execution_count": 7,
   "id": "a67c4fe1",
   "metadata": {},
   "outputs": [],
   "source": [
    "def calculate_sentiment_score(score):\n",
    "    if score > 0.05:\n",
    "        return 1  # Positive\n",
    "    elif score < -0.05:\n",
    "        return -1  # Negative\n",
    "    else:\n",
    "        return 0  # Neutral"
   ]
  },
  {
   "cell_type": "code",
   "execution_count": 8,
   "id": "8862ecbf",
   "metadata": {},
   "outputs": [],
   "source": [
    "# List of companies \n",
    "companies = [\n",
    "    \"International Holding Company\",\n",
    "    \"TAQA\",\n",
    "    \"ADNOC Gas\",\n",
    "    \"Alpha Dhabi\",\n",
    "    \"Emirates Telecom (Etisalat Group)\",\n",
    "    \"First Abu Dhabi Bank\",\n",
    "    \"Invest Bank\",\n",
    "    \"Borouge\",\n",
    "    \"Abu Dhabi Commercial Bank (ADCB)\",\n",
    "    \"ADNOC Drilling Company\",\n",
    "    \"Pure Health Holding\",\n",
    "    \"Abu Dhabi National Oil Company (ADNOC)\",\n",
    "    \"Al Dar Properties\",\n",
    "    \"Abu Dhabi Islamic Bank (ADIB)\",\n",
    "    \"Ooredoo\",\n",
    "    \"Abu Dhabi Ports\",\n",
    "    \"ADNOC Logistics & Services\",\n",
    "    \"MBME GROUP\",\n",
    "    \"Multiply Group\",\n",
    "    \"National Marine Dredging\",\n",
    "    \"Americana Restaurants International\",\n",
    "    \"Fertiglobe\",\n",
    "    \"Q Holding\",\n",
    "    \"Burjeel Holdings\",\n",
    "    \"Phoenix Group\",\n",
    "    \"RAKBANK (The National Bank of Ras Al Khaimah)\",\n",
    "    \"National Bank of Fujairah\",\n",
    "    \"Presight AI\",\n",
    "    \"Anan Investment Holding\",\n",
    "    \"EMSTEEL Building Materials PJSC\",\n",
    "    \"Ghitha\",\n",
    "    \"Abu Dhabi National Hotels\",\n",
    "    \"Sharjah Islamic Bank\",\n",
    "    \"NWTN Inc.\",\n",
    "    \"Apex Investment\",\n",
    "    \"Bayanat AI\",\n",
    "    \"Al Seer Marine Supplies & Equipment Company\",\n",
    "    \"Al Yah Satellite Communications Company\",\n",
    "    \"Dana Gas\",\n",
    "    \"Investcorp Capital\",\n",
    "    \"Agthia Group\",\n",
    "    \"National Bank of Umm Al Qaiwain\",\n",
    "    \"Emirates Driving Company\",\n",
    "    \"Abu Dhabi National Insurance Company\",\n",
    "    \"Waha Capital Company\",\n",
    "    \"National Corporation for Tourism & Hotels\",\n",
    "    \"Invictus Investment Company\",\n",
    "    \"Yalla Group\",\n",
    "    \"RAK Ceramics\",\n",
    "    \"RAK Properties\",\n",
    "]"
   ]
  },
  {
   "cell_type": "code",
   "execution_count": 9,
   "id": "2a734f9c",
   "metadata": {},
   "outputs": [],
   "source": [
    "# Fetch news articles for the companies\n",
    "news_df = extract_companies_news(companies)\n",
    "\n",
    "# Perform sentiment analysis on news titles\n",
    "news_df = sentiment_analysis(news_df)"
   ]
  },
  {
   "cell_type": "code",
   "execution_count": 10,
   "id": "342ee221",
   "metadata": {
    "scrolled": true
   },
   "outputs": [
    {
     "data": {
      "text/html": [
       "<div>\n",
       "<style scoped>\n",
       "    .dataframe tbody tr th:only-of-type {\n",
       "        vertical-align: middle;\n",
       "    }\n",
       "\n",
       "    .dataframe tbody tr th {\n",
       "        vertical-align: top;\n",
       "    }\n",
       "\n",
       "    .dataframe thead th {\n",
       "        text-align: right;\n",
       "    }\n",
       "</style>\n",
       "<table border=\"1\" class=\"dataframe\">\n",
       "  <thead>\n",
       "    <tr style=\"text-align: right;\">\n",
       "      <th></th>\n",
       "      <th>Company Name</th>\n",
       "      <th>News Title</th>\n",
       "      <th>Date</th>\n",
       "      <th>Title Sentiment Score</th>\n",
       "    </tr>\n",
       "  </thead>\n",
       "  <tbody>\n",
       "    <tr>\n",
       "      <th>0</th>\n",
       "      <td>International Holding Company</td>\n",
       "      <td>Wisdom Education International Holdings Compan...</td>\n",
       "      <td>5 days ago</td>\n",
       "      <td>1</td>\n",
       "    </tr>\n",
       "    <tr>\n",
       "      <th>1</th>\n",
       "      <td>International Holding Company</td>\n",
       "      <td>Improved Revenues Required Before DouYu Intern...</td>\n",
       "      <td>Oct 8</td>\n",
       "      <td>1</td>\n",
       "    </tr>\n",
       "    <tr>\n",
       "      <th>2</th>\n",
       "      <td>International Holding Company</td>\n",
       "      <td>Jeffrey F. Koehl appointed chairman of SPIROL ...</td>\n",
       "      <td>Jan 4</td>\n",
       "      <td>0</td>\n",
       "    </tr>\n",
       "    <tr>\n",
       "      <th>3</th>\n",
       "      <td>International Holding Company</td>\n",
       "      <td>Adani Enterprises shares jump 3% after IHC's s...</td>\n",
       "      <td>Oct 4</td>\n",
       "      <td>1</td>\n",
       "    </tr>\n",
       "    <tr>\n",
       "      <th>4</th>\n",
       "      <td>International Holding Company</td>\n",
       "      <td>Meet the man who wants to build Morocco’s firs...</td>\n",
       "      <td>Jun 20, 2023</td>\n",
       "      <td>0</td>\n",
       "    </tr>\n",
       "    <tr>\n",
       "      <th>...</th>\n",
       "      <td>...</td>\n",
       "      <td>...</td>\n",
       "      <td>...</td>\n",
       "      <td>...</td>\n",
       "    </tr>\n",
       "    <tr>\n",
       "      <th>226</th>\n",
       "      <td>RAK Properties</td>\n",
       "      <td>IHG and RAK Properties expand partnership with...</td>\n",
       "      <td>Dec 12</td>\n",
       "      <td>1</td>\n",
       "    </tr>\n",
       "    <tr>\n",
       "      <th>227</th>\n",
       "      <td>RAK Properties</td>\n",
       "      <td>RAK Properties' Sameh Muhtadi on why Ras Al Kh...</td>\n",
       "      <td>10 days ago</td>\n",
       "      <td>0</td>\n",
       "    </tr>\n",
       "    <tr>\n",
       "      <th>228</th>\n",
       "      <td>RAK Properties</td>\n",
       "      <td>RAK Properties posts record breaking profits i...</td>\n",
       "      <td>11 days ago</td>\n",
       "      <td>1</td>\n",
       "    </tr>\n",
       "    <tr>\n",
       "      <th>229</th>\n",
       "      <td>RAK Properties</td>\n",
       "      <td>RAK Properties PJSC (ADX:RAKPROP) Not Flying U...</td>\n",
       "      <td>Dec 18</td>\n",
       "      <td>0</td>\n",
       "    </tr>\n",
       "    <tr>\n",
       "      <th>230</th>\n",
       "      <td>RAK Properties</td>\n",
       "      <td>RAK Properties and IHG Expand Partnership with...</td>\n",
       "      <td>Dec 15</td>\n",
       "      <td>1</td>\n",
       "    </tr>\n",
       "  </tbody>\n",
       "</table>\n",
       "<p>231 rows × 4 columns</p>\n",
       "</div>"
      ],
      "text/plain": [
       "                      Company Name  \\\n",
       "0    International Holding Company   \n",
       "1    International Holding Company   \n",
       "2    International Holding Company   \n",
       "3    International Holding Company   \n",
       "4    International Holding Company   \n",
       "..                             ...   \n",
       "226                 RAK Properties   \n",
       "227                 RAK Properties   \n",
       "228                 RAK Properties   \n",
       "229                 RAK Properties   \n",
       "230                 RAK Properties   \n",
       "\n",
       "                                            News Title          Date  \\\n",
       "0    Wisdom Education International Holdings Compan...    5 days ago   \n",
       "1    Improved Revenues Required Before DouYu Intern...         Oct 8   \n",
       "2    Jeffrey F. Koehl appointed chairman of SPIROL ...         Jan 4   \n",
       "3    Adani Enterprises shares jump 3% after IHC's s...         Oct 4   \n",
       "4    Meet the man who wants to build Morocco’s firs...  Jun 20, 2023   \n",
       "..                                                 ...           ...   \n",
       "226  IHG and RAK Properties expand partnership with...        Dec 12   \n",
       "227  RAK Properties' Sameh Muhtadi on why Ras Al Kh...   10 days ago   \n",
       "228  RAK Properties posts record breaking profits i...   11 days ago   \n",
       "229  RAK Properties PJSC (ADX:RAKPROP) Not Flying U...        Dec 18   \n",
       "230  RAK Properties and IHG Expand Partnership with...        Dec 15   \n",
       "\n",
       "     Title Sentiment Score  \n",
       "0                        1  \n",
       "1                        1  \n",
       "2                        0  \n",
       "3                        1  \n",
       "4                        0  \n",
       "..                     ...  \n",
       "226                      1  \n",
       "227                      0  \n",
       "228                      1  \n",
       "229                      0  \n",
       "230                      1  \n",
       "\n",
       "[231 rows x 4 columns]"
      ]
     },
     "execution_count": 10,
     "metadata": {},
     "output_type": "execute_result"
    }
   ],
   "source": [
    "# Display the DataFrame\n",
    "news_df"
   ]
  },
  {
   "cell_type": "code",
   "execution_count": 11,
   "id": "7f52f6d0",
   "metadata": {},
   "outputs": [],
   "source": [
    "# Save the DataFrame to a CSV file\n",
    "news_df.to_csv('UAE_Country_Companies_Analysis.csv', index=False)"
   ]
  }
 ],
 "metadata": {
  "kernelspec": {
   "display_name": "Python 3 (ipykernel)",
   "language": "python",
   "name": "python3"
  },
  "language_info": {
   "codemirror_mode": {
    "name": "ipython",
    "version": 3
   },
   "file_extension": ".py",
   "mimetype": "text/x-python",
   "name": "python",
   "nbconvert_exporter": "python",
   "pygments_lexer": "ipython3",
   "version": "3.11.4"
  }
 },
 "nbformat": 4,
 "nbformat_minor": 5
}
